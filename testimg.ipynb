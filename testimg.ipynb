{
 "cells": [
  {
   "cell_type": "code",
   "execution_count": 31,
   "id": "f84dec63-8574-4821-9e7a-295c062eb169",
   "metadata": {},
   "outputs": [
    {
     "name": "stdout",
     "output_type": "stream",
     "text": [
      "Using matplotlib backend: TkAgg\n",
      "Filename: lightcurve_1.fits\n",
      "No.    Name      Ver    Type      Cards   Dimensions   Format\n",
      "  0  PRIMARY       1 PrimaryHDU      55   ()      \n",
      "  1  LIGHTCURVE    1 BinTableHDU    156   3862R x 20C   [D, E, J, E, E, E, E, E, E, J, D, E, D, E, D, E, D, E, E, E]   \n",
      "  2  APERTURE      1 ImageHDU        49   (10, 9)   int32   \n"
     ]
    },
    {
     "data": {
      "text/plain": [
       "<matplotlib.colorbar.Colorbar at 0x14156efa330>"
      ]
     },
     "execution_count": 31,
     "metadata": {},
     "output_type": "execute_result"
    }
   ],
   "source": [
    "import numpy as np\n",
    "import matplotlib.pyplot as plt\n",
    "from astropy.visualization.stretch import SinhStretch, LinearStretch\n",
    "%matplotlib\n",
    "from astropy.io import fits\n",
    "hdu1 = fits.open('lightcurve_1.fits')\n",
    "hdu1.info()\n",
    "data = hdu1[2].data\n",
    "data\n",
    "plt.imshow(data, cmap='jet')\n",
    "plt.colorbar()"
   ]
  },
  {
   "cell_type": "code",
   "execution_count": 42,
   "id": "b15e1dcb-d127-4a7f-a859-37978adffb9a",
   "metadata": {},
   "outputs": [
    {
     "data": {
      "text/plain": [
       "<matplotlib.image.AxesImage at 0x14153875130>"
      ]
     },
     "execution_count": 42,
     "metadata": {},
     "output_type": "execute_result"
    }
   ],
   "source": [
    "plt.figure()\n",
    "stretch = LinearStretch(slope=3, intercept=4) + SinhStretch() + LinearStretch(slope=5, intercept=-1)\n",
    "norm = ImageNormalize(stretch=stretch, vmin=-9, vmax=9)\n",
    "\n",
    "plt.imshow(data, cmap='jet', norm= norm, origin= 'lower')"
   ]
  },
  {
   "cell_type": "code",
   "execution_count": null,
   "id": "4236b2dd-662a-4bce-a18c-672b5d93416e",
   "metadata": {},
   "outputs": [],
   "source": []
  },
  {
   "cell_type": "code",
   "execution_count": null,
   "id": "49f9fbed-72e1-4864-98b0-d15ec6f2961c",
   "metadata": {},
   "outputs": [],
   "source": []
  }
 ],
 "metadata": {
  "kernelspec": {
   "display_name": "Python 3 (ipykernel)",
   "language": "python",
   "name": "python3"
  },
  "language_info": {
   "codemirror_mode": {
    "name": "ipython",
    "version": 3
   },
   "file_extension": ".py",
   "mimetype": "text/x-python",
   "name": "python",
   "nbconvert_exporter": "python",
   "pygments_lexer": "ipython3",
   "version": "3.12.0"
  }
 },
 "nbformat": 4,
 "nbformat_minor": 5
}
